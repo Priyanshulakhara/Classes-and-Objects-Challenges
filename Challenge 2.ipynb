{
 "cells": [
  {
   "cell_type": "code",
   "execution_count": 2,
   "id": "b2872933",
   "metadata": {},
   "outputs": [
    {
     "name": "stdout",
     "output_type": "stream",
     "text": [
      "210\n",
      "70.0\n"
     ]
    }
   ],
   "source": [
    "class Student:\n",
    "    \n",
    "    def __init__(self, name, phy, chem, bio):\n",
    "        self.name = name\n",
    "        self.phy = phy\n",
    "        self.chem = chem\n",
    "        self.bio = bio\n",
    "        \n",
    "    def total_marks_obtained(self):\n",
    "        return self.phy+self.chem+self.bio\n",
    "    \n",
    "    def percentage(self):\n",
    "        return ((total_marks)*100)/300\n",
    "\n",
    "obj1 = Student(\"Tejashri\", 80, 90, 40)\n",
    "total_marks = obj1.total_marks_obtained()\n",
    "print(obj1.total_marks_obtained())\n",
    "print(obj1.percentage())"
   ]
  },
  {
   "cell_type": "code",
   "execution_count": null,
   "id": "68c633a5",
   "metadata": {},
   "outputs": [],
   "source": []
  },
  {
   "cell_type": "code",
   "execution_count": null,
   "id": "b450774e",
   "metadata": {},
   "outputs": [],
   "source": []
  },
  {
   "cell_type": "code",
   "execution_count": null,
   "id": "2c857342",
   "metadata": {},
   "outputs": [],
   "source": []
  }
 ],
 "metadata": {
  "kernelspec": {
   "display_name": "Python 3 (ipykernel)",
   "language": "python",
   "name": "python3"
  },
  "language_info": {
   "codemirror_mode": {
    "name": "ipython",
    "version": 3
   },
   "file_extension": ".py",
   "mimetype": "text/x-python",
   "name": "python",
   "nbconvert_exporter": "python",
   "pygments_lexer": "ipython3",
   "version": "3.10.1"
  }
 },
 "nbformat": 4,
 "nbformat_minor": 5
}
